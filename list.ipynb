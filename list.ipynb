{
 "cells": [
  {
   "cell_type": "code",
   "execution_count": 3,
   "metadata": {},
   "outputs": [
    {
     "data": {
      "text/plain": [
       "9"
      ]
     },
     "execution_count": 3,
     "metadata": {},
     "output_type": "execute_result"
    }
   ],
   "source": [
    "#python program to interchange the first and last element\n",
    "\n",
    "\n",
    "\n",
    "# Given a list, write a program to swap to first elements of last element\n",
    "# Given a list, write a Python program to swap first and last element of the list.\n",
    "\n",
    "\n",
    "\n",
    "# Examples: \n",
    "\n",
    "# Input : [12, 35, 9, 56, 24]\n",
    "# Output : [24, 35, 9, 56, 12]\n",
    "\n",
    "# Input : [1, 2, 3]\n",
    "# Output : [3, 2, 1]\n",
    "\n",
    "#method1 :---find the length of element and swap last to first \n",
    "\n",
    "list  = [1,3,4,5,9]\n",
    "list[0]#accessing the first element from list by \n",
    "list[4]"
   ]
  },
  {
   "cell_type": "code",
   "execution_count": 5,
   "metadata": {},
   "outputs": [
    {
     "name": "stdout",
     "output_type": "stream",
     "text": [
      "[8, 2, 3, 0]\n"
     ]
    }
   ],
   "source": [
    "def swapList(list):\n",
    "    size = len(list)\n",
    "    temp = list[0]\n",
    "    list[0] = list[size -1]\n",
    "    list[size-1] = temp\n",
    "    return  list\n",
    "list = [0,2,3,8] \n",
    "print(swapList(list))   \n"
   ]
  },
  {
   "cell_type": "code",
   "execution_count": 6,
   "metadata": {},
   "outputs": [
    {
     "name": "stdout",
     "output_type": "stream",
     "text": [
      "[24, 35, 9, 56, 12]\n"
     ]
    }
   ],
   "source": [
    "def swapList(newList):\n",
    "    size = len(newList)\n",
    "     \n",
    "    # Swapping \n",
    "    temp = newList[0]\n",
    "    newList[0] = newList[size - 1]\n",
    "    newList[size - 1] = temp\n",
    "     \n",
    "    return newList\n",
    "     \n",
    "# Driver code\n",
    "newList = [12, 35, 9, 56, 24]\n",
    " \n",
    "print(swapList(newList))\n",
    "\n",
    "\n"
   ]
  },
  {
   "cell_type": "code",
   "execution_count": null,
   "metadata": {},
   "outputs": [],
   "source": []
  }
 ],
 "metadata": {
  "kernelspec": {
   "display_name": "base",
   "language": "python",
   "name": "python3"
  },
  "language_info": {
   "codemirror_mode": {
    "name": "ipython",
    "version": 3
   },
   "file_extension": ".py",
   "mimetype": "text/x-python",
   "name": "python",
   "nbconvert_exporter": "python",
   "pygments_lexer": "ipython3",
   "version": "3.8.8"
  }
 },
 "nbformat": 4,
 "nbformat_minor": 2
}
